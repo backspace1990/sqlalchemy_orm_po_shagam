{
 "cells": [
  {
   "cell_type": "code",
   "execution_count": 2,
   "metadata": {},
   "outputs": [],
   "source": [
    "from sqlalchemy import select, func, and_, or_, Integer\n",
    "from sqlalchemy.orm import selectinload\n",
    "\n",
    "from models import WorkersOrm, ResumesOrm, Workload\n",
    "from schemas import ResumesDTO, ResumesRelDTO, WorkersDTO, WorkersRelDTO\n",
    "from database import session_factory, sync_engine\n",
    "\n",
    "from pydantic import BaseModel"
   ]
  },
  {
   "cell_type": "markdown",
   "metadata": {},
   "source": [
    "**Без relationship**"
   ]
  },
  {
   "cell_type": "code",
   "execution_count": 4,
   "metadata": {},
   "outputs": [
    {
     "name": "stdout",
     "output_type": "stream",
     "text": [
      "2024-11-10 12:42:49,571 INFO sqlalchemy.engine.Engine BEGIN (implicit)\n",
      "2024-11-10 12:42:49,572 INFO sqlalchemy.engine.Engine SELECT workers.id, workers.username \n",
      "FROM workers \n",
      " LIMIT %(param_1)s::INTEGER\n",
      "2024-11-10 12:42:49,574 INFO sqlalchemy.engine.Engine [cached since 52.07s ago] {'param_1': 2}\n",
      "result_orm=[<WorkersOrm id=1, username=Jack>, <WorkersOrm id=2, username=Michael>]\n",
      "result_dto=[WorkersDTO(username='Jack', id=1), WorkersDTO(username='Michael', id=2)]\n",
      "2024-11-10 12:42:49,577 INFO sqlalchemy.engine.Engine ROLLBACK\n"
     ]
    }
   ],
   "source": [
    "with session_factory() as session:\n",
    "    query = (\n",
    "        select(WorkersOrm)\n",
    "        .limit(2)\n",
    "    )\n",
    "\n",
    "    res = session.execute(query)\n",
    "    result_orm = res.scalars().all()\n",
    "    print(f\"{result_orm=}\")\n",
    "    result_dto = [WorkersDTO.model_validate(row, from_attributes=True) for row in result_orm]\n",
    "    print(f\"{result_dto=}\")"
   ]
  },
  {
   "cell_type": "markdown",
   "metadata": {},
   "source": [
    "**C relationship**"
   ]
  },
  {
   "cell_type": "code",
   "execution_count": 9,
   "metadata": {},
   "outputs": [
    {
     "name": "stdout",
     "output_type": "stream",
     "text": [
      "2024-11-10 12:48:14,469 INFO sqlalchemy.engine.Engine BEGIN (implicit)\n",
      "2024-11-10 12:48:14,472 INFO sqlalchemy.engine.Engine SELECT workers.id, workers.username \n",
      "FROM workers \n",
      " LIMIT %(param_1)s::INTEGER\n",
      "2024-11-10 12:48:14,474 INFO sqlalchemy.engine.Engine [cached since 84.15s ago] {'param_1': 2}\n",
      "2024-11-10 12:48:14,478 INFO sqlalchemy.engine.Engine SELECT resumes.worker_id AS resumes_worker_id, resumes.id AS resumes_id, resumes.title AS resumes_title, resumes.compensation AS resumes_compensation, resumes.workload AS resumes_workload, resumes.created_at AS resumes_created_at, resumes.updated_at AS resumes_updated_at \n",
      "FROM resumes \n",
      "WHERE resumes.worker_id IN (%(primary_keys_1)s::INTEGER, %(primary_keys_2)s::INTEGER)\n",
      "2024-11-10 12:48:14,479 INFO sqlalchemy.engine.Engine [cached since 84.13s ago] {'primary_keys_1': 1, 'primary_keys_2': 2}\n",
      "result_orm=[<WorkersOrm id=1, username=Jack>, <WorkersOrm id=2, username=Michael>]\n",
      "result_dto=[WorkersRelDTO(username='Jack', id=1, resumes=[ResumesDTO(title='Python Junior Developer', compensation=50000, workload=<Workload.fulltime: 'fulltime'>, worker_id=1, id=1, created_at=datetime.datetime(2024, 11, 9, 22, 48, 53, 508026), updated_at=datetime.datetime(2024, 11, 9, 22, 48, 53, 508026)), ResumesDTO(title='Python Разработчик', compensation=150000, workload=<Workload.fulltime: 'fulltime'>, worker_id=1, id=2, created_at=datetime.datetime(2024, 11, 9, 22, 48, 53, 508026), updated_at=datetime.datetime(2024, 11, 9, 22, 48, 53, 508026))]), WorkersRelDTO(username='Michael', id=2, resumes=[ResumesDTO(title='Python Data Engineer', compensation=250000, workload=<Workload.parttime: 'parttime'>, worker_id=2, id=3, created_at=datetime.datetime(2024, 11, 9, 22, 48, 53, 508026), updated_at=datetime.datetime(2024, 11, 9, 22, 48, 53, 508026)), ResumesDTO(title='Data Scientist', compensation=300000, workload=<Workload.fulltime: 'fulltime'>, worker_id=2, id=4, created_at=datetime.datetime(2024, 11, 9, 22, 48, 53, 508026), updated_at=datetime.datetime(2024, 11, 9, 22, 48, 53, 508026))])]\n",
      "2024-11-10 12:48:14,482 INFO sqlalchemy.engine.Engine ROLLBACK\n"
     ]
    }
   ],
   "source": [
    "with session_factory() as session:\n",
    "    query = (\n",
    "        select(WorkersOrm)\n",
    "        .options(selectinload(WorkersOrm.resumes))\n",
    "        .limit(2)\n",
    "    )\n",
    "\n",
    "    res = session.execute(query)\n",
    "    result_orm = res.scalars().all()\n",
    "    print(f\"{result_orm=}\")\n",
    "    result_dto = [WorkersRelDTO.model_validate(row, from_attributes=True) for row in result_orm]\n",
    "    print(f\"{result_dto=}\")"
   ]
  },
  {
   "cell_type": "markdown",
   "metadata": {},
   "source": [
    "**JOIN**"
   ]
  },
  {
   "cell_type": "code",
   "execution_count": 10,
   "metadata": {},
   "outputs": [],
   "source": [
    "class WorkloadAvgCompensationDTO(BaseModel):\n",
    "    workload: Workload\n",
    "    avg_compensation: int"
   ]
  },
  {
   "cell_type": "code",
   "execution_count": 12,
   "metadata": {},
   "outputs": [
    {
     "name": "stdout",
     "output_type": "stream",
     "text": [
      "2024-11-10 12:50:43,566 INFO sqlalchemy.engine.Engine BEGIN (implicit)\n",
      "2024-11-10 12:50:43,569 INFO sqlalchemy.engine.Engine SELECT resumes.workload, CAST(avg(resumes.compensation) AS INTEGER) AS avg_compensation \n",
      "FROM resumes \n",
      "WHERE (resumes.title LIKE '%%' || %(title_1)s::VARCHAR || '%%') AND resumes.compensation > %(compensation_1)s::INTEGER GROUP BY resumes.workload \n",
      "HAVING avg(resumes.compensation) > %(avg_1)s::INTEGER\n",
      "2024-11-10 12:50:43,570 INFO sqlalchemy.engine.Engine [cached since 62.94s ago] {'title_1': 'Python', 'compensation_1': 40000, 'avg_1': 70000}\n",
      "result_orm=[(<Workload.parttime: 'parttime'>, 165000), (<Workload.fulltime: 'fulltime'>, 90000)]\n",
      "result_dto=[WorkloadAvgCompensationDTO(workload=<Workload.parttime: 'parttime'>, avg_compensation=165000), WorkloadAvgCompensationDTO(workload=<Workload.fulltime: 'fulltime'>, avg_compensation=90000)]\n",
      "2024-11-10 12:50:43,578 INFO sqlalchemy.engine.Engine ROLLBACK\n"
     ]
    }
   ],
   "source": [
    "with session_factory() as session:\n",
    "    query = (\n",
    "        select(\n",
    "            ResumesOrm.workload,\n",
    "            func.avg(ResumesOrm.compensation).cast(Integer).label(\"avg_compensation\"),\n",
    "        )\n",
    "        .select_from(ResumesOrm)\n",
    "        .filter(and_(\n",
    "            ResumesOrm.title.contains(\"Python\"),\n",
    "            ResumesOrm.compensation > 40000,\n",
    "        ))\n",
    "        .group_by(ResumesOrm.workload)\n",
    "        .having(func.avg(ResumesOrm.compensation) > 70000)\n",
    "    )\n",
    "    res = session.execute(query)\n",
    "    result_orm = res.all()\n",
    "    print(f\"{result_orm=}\")\n",
    "    result_dto = [WorkloadAvgCompensationDTO.model_validate(row, from_attributes=True) for row in result_orm]\n",
    "    print(f\"{result_dto=}\")"
   ]
  }
 ],
 "metadata": {
  "kernelspec": {
   "display_name": "myenvsql",
   "language": "python",
   "name": "python3"
  },
  "language_info": {
   "codemirror_mode": {
    "name": "ipython",
    "version": 3
   },
   "file_extension": ".py",
   "mimetype": "text/x-python",
   "name": "python",
   "nbconvert_exporter": "python",
   "pygments_lexer": "ipython3",
   "version": "3.10.10"
  }
 },
 "nbformat": 4,
 "nbformat_minor": 2
}
